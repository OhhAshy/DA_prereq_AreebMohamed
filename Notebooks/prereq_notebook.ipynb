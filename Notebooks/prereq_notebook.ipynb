{
 "cells": [
  {
   "cell_type": "code",
   "execution_count": null,
   "id": "d65b113b",
   "metadata": {},
   "outputs": [],
   "source": [
    "print\"Hello World :D\"\n",
    "## Hi my name is Areeb and I am really excited to start learning and working with python!"
   ]
  }
 ],
 "metadata": {
  "language_info": {
   "name": "python"
  }
 },
 "nbformat": 4,
 "nbformat_minor": 5
}
